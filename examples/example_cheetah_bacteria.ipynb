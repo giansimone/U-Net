{
 "cells": [
  {
   "cell_type": "code",
   "execution_count": 8,
   "metadata": {},
   "outputs": [],
   "source": [
    "import os\n",
    "import sys\n",
    "\n",
    "BASE_PATH = os.path.abspath(os.pardir)\n",
    "DATABASE_PATH = os.join(BASE_PATH, example)\n",
    "MODEL_PATH = os.join(BASE_PATH, 'data')\n",
    "DATA_TRAIN_PATH\n",
    "\n",
    "sys.path.append(BASE_PATH)"
   ]
  },
  {
   "cell_type": "code",
   "execution_count": 10,
   "metadata": {},
   "outputs": [],
   "source": [
    "from senso.train import train\n",
    "\n",
    "train(DATA_PATH, './data/examples/cheetah/patches_train/', 30, 1, 1e-4)"
   ]
  },
  {
   "cell_type": "code",
   "execution_count": null,
   "metadata": {},
   "outputs": [],
   "source": []
  }
 ],
 "metadata": {
  "kernelspec": {
   "display_name": "Python 3.9.13 ('torch-gpu')",
   "language": "python",
   "name": "python3"
  },
  "language_info": {
   "codemirror_mode": {
    "name": "ipython",
    "version": 3
   },
   "file_extension": ".py",
   "mimetype": "text/x-python",
   "name": "python",
   "nbconvert_exporter": "python",
   "pygments_lexer": "ipython3",
   "version": "3.9.13"
  },
  "orig_nbformat": 4,
  "vscode": {
   "interpreter": {
    "hash": "28f8ea02172a256acd6628951cf30d1f6fc5dfe765269d5a05d1a479699be630"
   }
  }
 },
 "nbformat": 4,
 "nbformat_minor": 2
}
