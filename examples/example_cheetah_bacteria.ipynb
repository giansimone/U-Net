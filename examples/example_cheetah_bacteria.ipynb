{
 "cells": [
  {
   "cell_type": "code",
   "execution_count": 1,
   "metadata": {},
   "outputs": [],
   "source": [
    "import os\n",
    "import sys\n",
    "\n",
    "BASE_PATH = os.path.abspath(os.pardir)\n",
    "DATA_PATH = os.path.join(BASE_PATH, 'examples/data/cheetah_bacteria')\n",
    "MODEL_PATH = os.path.join(DATA_PATH, 'unet_params')\n",
    "\n",
    "sys.path.append(BASE_PATH)"
   ]
  },
  {
   "cell_type": "code",
   "execution_count": 4,
   "metadata": {},
   "outputs": [],
   "source": [
    "from senso.train import train"
   ]
  },
  {
   "cell_type": "code",
   "execution_count": 5,
   "metadata": {},
   "outputs": [
    {
     "name": "stdout",
     "output_type": "stream",
     "text": [
      "Epoch 1\n",
      "-------------------------------\n",
      "loss: 1.080144  [    0/   60]\n",
      "loss: 0.933495  [    1/   60]\n",
      "loss: 0.892129  [    2/   60]\n",
      "loss: 0.864404  [    3/   60]\n",
      "loss: 0.895208  [    4/   60]\n",
      "loss: 0.829678  [    5/   60]\n",
      "loss: 0.812599  [    6/   60]\n",
      "loss: 0.839519  [    7/   60]\n",
      "loss: 0.806419  [    8/   60]\n",
      "loss: 0.800765  [    9/   60]\n",
      "loss: 0.788579  [   10/   60]\n"
     ]
    },
    {
     "ename": "KeyboardInterrupt",
     "evalue": "",
     "output_type": "error",
     "traceback": [
      "\u001b[0;31m---------------------------------------------------------------------------\u001b[0m",
      "\u001b[0;31mKeyboardInterrupt\u001b[0m                         Traceback (most recent call last)",
      "\u001b[1;32m/Users/perrino/Library/CloudStorage/OneDrive-ImperialCollegeLondon/Cybergenetics_Project/code/U-Net/examples/example_cheetah_bacteria.ipynb Cell 3\u001b[0m in \u001b[0;36m<cell line: 1>\u001b[0;34m()\u001b[0m\n\u001b[0;32m----> <a href='vscode-notebook-cell:/Users/perrino/Library/CloudStorage/OneDrive-ImperialCollegeLondon/Cybergenetics_Project/code/U-Net/examples/example_cheetah_bacteria.ipynb#W5sZmlsZQ%3D%3D?line=0'>1</a>\u001b[0m train(MODEL_PATH, DATA_PATH, \u001b[39m30\u001b[39;49m, \u001b[39m1\u001b[39;49m, \u001b[39m1e-4\u001b[39;49m)\n",
      "File \u001b[0;32m~/Library/CloudStorage/OneDrive-ImperialCollegeLondon/Cybergenetics_Project/code/U-Net/senso/train.py:62\u001b[0m, in \u001b[0;36mtrain\u001b[0;34m(model_path, data_path, epochs, batch_size, learning_rate)\u001b[0m\n\u001b[1;32m     60\u001b[0m optimiser\u001b[39m.\u001b[39mzero_grad()\n\u001b[1;32m     61\u001b[0m loss\u001b[39m.\u001b[39mbackward()\n\u001b[0;32m---> 62\u001b[0m optimiser\u001b[39m.\u001b[39;49mstep()\n\u001b[1;32m     64\u001b[0m current_loss, current \u001b[39m=\u001b[39m loss\u001b[39m.\u001b[39mitem(), batch \u001b[39m*\u001b[39m \u001b[39mlen\u001b[39m(X)\n\u001b[1;32m     65\u001b[0m \u001b[39mprint\u001b[39m(\u001b[39mf\u001b[39m\u001b[39m'\u001b[39m\u001b[39mloss: \u001b[39m\u001b[39m{\u001b[39;00mcurrent_loss\u001b[39m:\u001b[39;00m\u001b[39m>7f\u001b[39m\u001b[39m}\u001b[39;00m\u001b[39m  [\u001b[39m\u001b[39m{\u001b[39;00mcurrent\u001b[39m:\u001b[39;00m\u001b[39m>5d\u001b[39m\u001b[39m}\u001b[39;00m\u001b[39m/\u001b[39m\u001b[39m{\u001b[39;00msize\u001b[39m:\u001b[39;00m\u001b[39m>5d\u001b[39m\u001b[39m}\u001b[39;00m\u001b[39m]\u001b[39m\u001b[39m'\u001b[39m)\n",
      "File \u001b[0;32m~/miniforge3/envs/torch-gpu/lib/python3.9/site-packages/torch/optim/optimizer.py:113\u001b[0m, in \u001b[0;36mOptimizer._hook_for_profile.<locals>.profile_hook_step.<locals>.wrapper\u001b[0;34m(*args, **kwargs)\u001b[0m\n\u001b[1;32m    111\u001b[0m profile_name \u001b[39m=\u001b[39m \u001b[39m\"\u001b[39m\u001b[39mOptimizer.step#\u001b[39m\u001b[39m{}\u001b[39;00m\u001b[39m.step\u001b[39m\u001b[39m\"\u001b[39m\u001b[39m.\u001b[39mformat(obj\u001b[39m.\u001b[39m\u001b[39m__class__\u001b[39m\u001b[39m.\u001b[39m\u001b[39m__name__\u001b[39m)\n\u001b[1;32m    112\u001b[0m \u001b[39mwith\u001b[39;00m torch\u001b[39m.\u001b[39mautograd\u001b[39m.\u001b[39mprofiler\u001b[39m.\u001b[39mrecord_function(profile_name):\n\u001b[0;32m--> 113\u001b[0m     \u001b[39mreturn\u001b[39;00m func(\u001b[39m*\u001b[39;49margs, \u001b[39m*\u001b[39;49m\u001b[39m*\u001b[39;49mkwargs)\n",
      "File \u001b[0;32m~/miniforge3/envs/torch-gpu/lib/python3.9/site-packages/torch/autograd/grad_mode.py:27\u001b[0m, in \u001b[0;36m_DecoratorContextManager.__call__.<locals>.decorate_context\u001b[0;34m(*args, **kwargs)\u001b[0m\n\u001b[1;32m     24\u001b[0m \u001b[39m@functools\u001b[39m\u001b[39m.\u001b[39mwraps(func)\n\u001b[1;32m     25\u001b[0m \u001b[39mdef\u001b[39;00m \u001b[39mdecorate_context\u001b[39m(\u001b[39m*\u001b[39margs, \u001b[39m*\u001b[39m\u001b[39m*\u001b[39mkwargs):\n\u001b[1;32m     26\u001b[0m     \u001b[39mwith\u001b[39;00m \u001b[39mself\u001b[39m\u001b[39m.\u001b[39mclone():\n\u001b[0;32m---> 27\u001b[0m         \u001b[39mreturn\u001b[39;00m func(\u001b[39m*\u001b[39;49margs, \u001b[39m*\u001b[39;49m\u001b[39m*\u001b[39;49mkwargs)\n",
      "File \u001b[0;32m~/miniforge3/envs/torch-gpu/lib/python3.9/site-packages/torch/optim/rmsprop.py:141\u001b[0m, in \u001b[0;36mRMSprop.step\u001b[0;34m(self, closure)\u001b[0m\n\u001b[1;32m    136\u001b[0m             grad_avgs\u001b[39m.\u001b[39mappend(state[\u001b[39m'\u001b[39m\u001b[39mgrad_avg\u001b[39m\u001b[39m'\u001b[39m])\n\u001b[1;32m    138\u001b[0m         state[\u001b[39m'\u001b[39m\u001b[39mstep\u001b[39m\u001b[39m'\u001b[39m] \u001b[39m+\u001b[39m\u001b[39m=\u001b[39m \u001b[39m1\u001b[39m\n\u001b[0;32m--> 141\u001b[0m     rmsprop(params_with_grad,\n\u001b[1;32m    142\u001b[0m             grads,\n\u001b[1;32m    143\u001b[0m             square_avgs,\n\u001b[1;32m    144\u001b[0m             grad_avgs,\n\u001b[1;32m    145\u001b[0m             momentum_buffer_list,\n\u001b[1;32m    146\u001b[0m             lr\u001b[39m=\u001b[39;49mgroup[\u001b[39m'\u001b[39;49m\u001b[39mlr\u001b[39;49m\u001b[39m'\u001b[39;49m],\n\u001b[1;32m    147\u001b[0m             alpha\u001b[39m=\u001b[39;49mgroup[\u001b[39m'\u001b[39;49m\u001b[39malpha\u001b[39;49m\u001b[39m'\u001b[39;49m],\n\u001b[1;32m    148\u001b[0m             eps\u001b[39m=\u001b[39;49mgroup[\u001b[39m'\u001b[39;49m\u001b[39meps\u001b[39;49m\u001b[39m'\u001b[39;49m],\n\u001b[1;32m    149\u001b[0m             weight_decay\u001b[39m=\u001b[39;49mgroup[\u001b[39m'\u001b[39;49m\u001b[39mweight_decay\u001b[39;49m\u001b[39m'\u001b[39;49m],\n\u001b[1;32m    150\u001b[0m             momentum\u001b[39m=\u001b[39;49mgroup[\u001b[39m'\u001b[39;49m\u001b[39mmomentum\u001b[39;49m\u001b[39m'\u001b[39;49m],\n\u001b[1;32m    151\u001b[0m             centered\u001b[39m=\u001b[39;49mgroup[\u001b[39m'\u001b[39;49m\u001b[39mcentered\u001b[39;49m\u001b[39m'\u001b[39;49m],\n\u001b[1;32m    152\u001b[0m             foreach\u001b[39m=\u001b[39;49mgroup[\u001b[39m'\u001b[39;49m\u001b[39mforeach\u001b[39;49m\u001b[39m'\u001b[39;49m])\n\u001b[1;32m    154\u001b[0m \u001b[39mreturn\u001b[39;00m loss\n",
      "File \u001b[0;32m~/miniforge3/envs/torch-gpu/lib/python3.9/site-packages/torch/optim/rmsprop.py:188\u001b[0m, in \u001b[0;36mrmsprop\u001b[0;34m(params, grads, square_avgs, grad_avgs, momentum_buffer_list, foreach, lr, alpha, eps, weight_decay, momentum, centered)\u001b[0m\n\u001b[1;32m    185\u001b[0m \u001b[39melse\u001b[39;00m:\n\u001b[1;32m    186\u001b[0m     func \u001b[39m=\u001b[39m _single_tensor_rmsprop\n\u001b[0;32m--> 188\u001b[0m func(params,\n\u001b[1;32m    189\u001b[0m      grads,\n\u001b[1;32m    190\u001b[0m      square_avgs,\n\u001b[1;32m    191\u001b[0m      grad_avgs,\n\u001b[1;32m    192\u001b[0m      momentum_buffer_list,\n\u001b[1;32m    193\u001b[0m      lr\u001b[39m=\u001b[39;49mlr,\n\u001b[1;32m    194\u001b[0m      alpha\u001b[39m=\u001b[39;49malpha,\n\u001b[1;32m    195\u001b[0m      eps\u001b[39m=\u001b[39;49meps,\n\u001b[1;32m    196\u001b[0m      weight_decay\u001b[39m=\u001b[39;49mweight_decay,\n\u001b[1;32m    197\u001b[0m      momentum\u001b[39m=\u001b[39;49mmomentum,\n\u001b[1;32m    198\u001b[0m      centered\u001b[39m=\u001b[39;49mcentered)\n",
      "File \u001b[0;32m~/miniforge3/envs/torch-gpu/lib/python3.9/site-packages/torch/optim/rmsprop.py:228\u001b[0m, in \u001b[0;36m_single_tensor_rmsprop\u001b[0;34m(params, grads, square_avgs, grad_avgs, momentum_buffer_list, lr, alpha, eps, weight_decay, momentum, centered)\u001b[0m\n\u001b[1;32m    226\u001b[0m     avg \u001b[39m=\u001b[39m square_avg\u001b[39m.\u001b[39maddcmul(grad_avg, grad_avg, value\u001b[39m=\u001b[39m\u001b[39m-\u001b[39m\u001b[39m1\u001b[39m)\u001b[39m.\u001b[39msqrt_()\u001b[39m.\u001b[39madd_(eps)\n\u001b[1;32m    227\u001b[0m \u001b[39melse\u001b[39;00m:\n\u001b[0;32m--> 228\u001b[0m     avg \u001b[39m=\u001b[39m square_avg\u001b[39m.\u001b[39;49msqrt()\u001b[39m.\u001b[39;49madd_(eps)\n\u001b[1;32m    230\u001b[0m \u001b[39mif\u001b[39;00m momentum \u001b[39m>\u001b[39m \u001b[39m0\u001b[39m:\n\u001b[1;32m    231\u001b[0m     buf \u001b[39m=\u001b[39m momentum_buffer_list[i]\n",
      "\u001b[0;31mKeyboardInterrupt\u001b[0m: "
     ]
    }
   ],
   "source": [
    "train(MODEL_PATH, DATA_PATH, 30, 1, 1e-4)"
   ]
  },
  {
   "cell_type": "code",
   "execution_count": null,
   "metadata": {},
   "outputs": [],
   "source": []
  }
 ],
 "metadata": {
  "kernelspec": {
   "display_name": "Python 3.9.13 ('torch-gpu')",
   "language": "python",
   "name": "python3"
  },
  "language_info": {
   "codemirror_mode": {
    "name": "ipython",
    "version": 3
   },
   "file_extension": ".py",
   "mimetype": "text/x-python",
   "name": "python",
   "nbconvert_exporter": "python",
   "pygments_lexer": "ipython3",
   "version": "3.9.13"
  },
  "orig_nbformat": 4,
  "vscode": {
   "interpreter": {
    "hash": "28f8ea02172a256acd6628951cf30d1f6fc5dfe765269d5a05d1a479699be630"
   }
  }
 },
 "nbformat": 4,
 "nbformat_minor": 2
}
